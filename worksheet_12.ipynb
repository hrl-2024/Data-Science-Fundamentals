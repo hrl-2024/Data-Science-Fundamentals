{
 "cells": [
  {
   "attachments": {},
   "cell_type": "markdown",
   "metadata": {},
   "source": [
    "# Worksheet 12\n",
    "\n",
    "Name:  Ruihang Liu\n",
    "UID: U49596386\n",
    "\n",
    "### Topics\n",
    "\n",
    "- Introduction to Classification\n",
    "- K Nearest Neighbors\n",
    "\n",
    "### Introduction to Classification"
   ]
  },
  {
   "cell_type": "markdown",
   "metadata": {},
   "source": [
    "#### Classification:\n",
    "\n",
    "- Given a **training set** where data is labeled with a special **attribute** called a **class** (a discrete value)\n",
    "- We want to find a **model** describing how the **class** attribute varies as a function of the values of the other attributes\n",
    "- Goal: use this model on unlabeled data to assign a class as accurately as possible"
   ]
  },
  {
   "cell_type": "markdown",
   "metadata": {},
   "source": [
    "a) For the following examples, say whether they are or aren't an example of classification.\n",
    "\n",
    "1. Predicting whether a student will be offered a job after graduating given their GPA. - Yes\n",
    "2. Predicting how long it will take (in number of months) for a student to be offered a job after graduating, given their GPA. - No\n",
    "3. Predicting the number of stars (1-5) a person will assign in their yelp review given the description they wrote in the review. - Yes\n",
    "4. Predicting the number of births occuring in a specified minute. - No"
   ]
  },
  {
   "cell_type": "markdown",
   "metadata": {},
   "source": [
    "b) Given a dataset, how would you set things up such that you can both learn a model and get an idea of how this model might perform on data it has never seen?"
   ]
  },
  {
   "cell_type": "markdown",
   "metadata": {},
   "source": [
    "* Capture the general trend / realtionship between class and features as simply as possible (look at outliers, noises, etc...)\n",
    "\n",
    "Split the dataset into training, evaluation and testing sets.\n",
    "* Train on the training set\n",
    "* Validate on the evaluation set\n",
    "* Lastly, test on the test set after"
   ]
  },
  {
   "cell_type": "markdown",
   "metadata": {},
   "source": [
    "c) In your own words, briefly explain:\n",
    "\n",
    "- underfitting\n",
    "- overfitting\n",
    "\n",
    "and what signs to look out for for each."
   ]
  },
  {
   "cell_type": "markdown",
   "metadata": {},
   "source": [
    "* Underfitting: model too simple, cannot accurately predict\n",
    "* Overfitting: model too complex, high accuracy might also because of memorizing too much information (too specific to the training set)"
   ]
  },
  {
   "cell_type": "markdown",
   "metadata": {},
   "source": [
    "### K Nearest Neighbors\n",
    "\n",
    "Requires:\n",
    "* Training set\n",
    "* Distance function\n",
    "* Value for k\n",
    "\n",
    "How to classify an unseen record:\n",
    "1. Compute distance of unseen record to all training records\n",
    "2. Identify the k nearest neighbors\n",
    "3. Aggregate the labels of these k neighbors to predict the unseen record class (ex: majority rule)\n",
    "\n",
    "Choosing the value of k:\n",
    "* If k is too small -> sensitive to noise points + overfitting (doesn’t generalize well)\n",
    "* If k is too large -> neighborhood may include points from other classes (underfitting)\n",
    "\n",
    "Pros:\n",
    "* Simple to understand why a given unseen record was given a particular class\n",
    "\n",
    "Cons:\n",
    "* Expensive to classify new points\n",
    "* KNN can be problematic in high dimensions (curse of dimensionality)"
   ]
  },
  {
   "cell_type": "code",
   "execution_count": 26,
   "metadata": {},
   "outputs": [],
   "source": [
    "import numpy as np\n",
    "import matplotlib.pyplot as plt\n",
    "\n",
    "data = {\n",
    "    \"Attribute A\" : [3.5, 0, 1, 2.5, 2, 1.5, 2, 3.5, 1, 3, 2, 2, 2.5, 0.5, 0., 10],\n",
    "    \"Attribute B\" : [4, 1.5, 2, 1, 3.5, 2.5, 1, 0, 3, 1.5, 4, 2, 2.5, 0.5, 2.5, 10],\n",
    "    \"Class\" : [1, 0, 1, 0, 1, 0, 1, 0, 1, 0, 1, 0, 0, 1, 1, 0],\n",
    "}"
   ]
  },
  {
   "cell_type": "markdown",
   "metadata": {},
   "source": [
    "a) Plot the data in a 2D plot coloring each scatter point one of two colors depending on its corresponding class."
   ]
  },
  {
   "cell_type": "code",
   "execution_count": 27,
   "metadata": {},
   "outputs": [
    {
     "data": {
      "image/png": "[encoded data removed]",
      "text/plain": [
       "<Figure size 640x480 with 1 Axes>"
      ]
     },
     "metadata": {},
     "output_type": "display_data"
    }
   ],
   "source": [
    "colors = np.array([x for x in 'bgrcmyk'])\n",
    "plt.scatter(data[\"Attribute A\"], data[\"Attribute B\"], color=colors[data[\"Class\"]].tolist())\n",
    "plt.show()"
   ]
  },
  {
   "cell_type": "markdown",
   "metadata": {},
   "source": [
    "Outliers are points that lie far from the rest of the data. They are not necessarily invalid points however. Imagine sampling from a Normal Distribution with mean 10 and variance 1. You would expect most points you sample to be in the range [7, 13] but it's entirely possible to see 20 which, on average, should be very far from the rest of the points in the sample (unless we're VERY (un)lucky). These outliers can inhibit our ability to learn general patterns in the data since they are not representative of likely outcomes. They can still be useful in of themselves and can be analyzed in great depth depending on the problem at hand.\n",
    "\n",
    "b) Are there any points in the dataset that could be outliers? If so, please remove them from the dataset."
   ]
  },
  {
   "cell_type": "markdown",
   "metadata": {},
   "source": [
    "(10, 10) is definitly an outlier."
   ]
  },
  {
   "cell_type": "code",
   "execution_count": 28,
   "metadata": {},
   "outputs": [],
   "source": [
    "data[\"Attribute A\"] = data[\"Attribute A\"][:-1]\n",
    "data[\"Attribute B\"] = data[\"Attribute B\"][:-1]\n",
    "data[\"Class\"] = data[\"Class\"][:-1]"
   ]
  },
  {
   "cell_type": "markdown",
   "metadata": {},
   "source": [
    "Noise points are points that could be considered invalid under the general trend in the data. These could be the result of actual errors in the data or randomness that we could attribute to oversimplification (for example if missing some information / feature about each point). Considering noise points in our model can often lead to overfitting.\n",
    "\n",
    "c) Are there any points in the dataset that could be noise points?"
   ]
  },
  {
   "cell_type": "markdown",
   "metadata": {},
   "source": [
    "(0, 1.5)"
   ]
  },
  {
   "cell_type": "markdown",
   "metadata": {},
   "source": [
    "For the following point\n",
    "\n",
    "|  A  |  B  |\n",
    "|-----|-----|\n",
    "| 0.5 |  1  |\n",
    "\n",
    "d) Plot it in a different color along with the rest of the points in the dataset."
   ]
  },
  {
   "cell_type": "code",
   "execution_count": 32,
   "metadata": {},
   "outputs": [
    {
     "data": {
      "image/png": "[encoded data removed]",
      "text/plain": [
       "<Figure size 640x480 with 1 Axes>"
      ]
     },
     "metadata": {},
     "output_type": "display_data"
    }
   ],
   "source": [
    "plt.scatter(data[\"Attribute A\"] + [0.5], data[\"Attribute B\"] + [1], color=colors[data[\"Class\"] + [2]].tolist())\n",
    "plt.show()"
   ]
  },
  {
   "cell_type": "markdown",
   "metadata": {},
   "source": [
    "e) Write a function to compute the Euclidean distance from it to all points in the dataset and pick the 3 closest points to it. In a scatter plot, draw a circle centered around the point with radius the distance of the farthest of the three points."
   ]
  },
  {
   "cell_type": "code",
   "execution_count": 50,
   "metadata": {},
   "outputs": [
    {
     "data": {
      "image/png": "[encoded data removed]",
      "text/plain": [
       "<Figure size 640x480 with 1 Axes>"
      ]
     },
     "metadata": {},
     "output_type": "display_data"
    }
   ],
   "source": [
    "def n_closest_to(example, n):\n",
    "    distances = []\n",
    "    for i in range(len(data[\"Attribute A\"])):\n",
    "        distances.append(np.linalg.norm(np.array([data[\"Attribute A\"][i], data[\"Attribute B\"][i]]) - np.array(example)))\n",
    "    return np.argsort(distances)[:n]\n",
    "\n",
    "location = (0.5,1)\n",
    "radius = n_closest_to(location, 3)[2]\n",
    "_, axes = plt.subplots()\n",
    "\n",
    "axes.scatter(data[\"Attribute A\"] + [0.5], data[\"Attribute B\"] + [1], color=colors[data[\"Class\"] + [2]].tolist())\n",
    "\n",
    "cir = plt.Circle(location, radius, fill = False, alpha=0.8)\n",
    "axes.add_patch(cir)\n",
    "axes.set_aspect('equal') # necessary so that the circle is not oval\n",
    "plt.show()"
   ]
  },
  {
   "cell_type": "markdown",
   "metadata": {},
   "source": [
    "f) Write a function that takes the three points returned by your function in e) and returns the class that the majority of points have (break ties with a deterministic default class of your choosing). Print the class assigned to this new point by your function."
   ]
  },
  {
   "cell_type": "code",
   "execution_count": 51,
   "metadata": {},
   "outputs": [
    {
     "name": "stdout",
     "output_type": "stream",
     "text": [
      "Majority:  False\n"
     ]
    }
   ],
   "source": [
    "def majority(points):\n",
    "    true_count = 0\n",
    "    false_count = 0\n",
    "\n",
    "    for p in points:\n",
    "        if data[\"Class\"][p] == 1:\n",
    "            true_count += 1\n",
    "        else:\n",
    "            false_count += 1\n",
    "\n",
    "    return true_count > false_count\n",
    "\n",
    "# get all points away from the radius\n",
    "points = n_closest_to(location, 3)\n",
    "points = [p for p in points if np.linalg.norm(np.array([data[\"Attribute A\"][p], data[\"Attribute B\"][p]]) - np.array(location)) > radius]\n",
    "\n",
    "print(\"Majority: \", majority(points))"
   ]
  },
  {
   "cell_type": "markdown",
   "metadata": {},
   "source": [
    "g) Re-using the functions from e) and f), you should be able to assign a class to any new point. In this exercise we will implement Leave-one-out cross validiation in order to evaluate the performance of our model.\n",
    "\n",
    "For each point in the dataset:\n",
    "\n",
    "- consider that point as your test set and the rest of the data as your training set\n",
    "- classify that point using the training set\n",
    "- keep track of whether you were correct with the use of a counter\n",
    "\n",
    "Once you've iterated through the entire dataset, divide the counter by the number of points in the dataset to report an overall testing accuracy."
   ]
  },
  {
   "cell_type": "code",
   "execution_count": 54,
   "metadata": {},
   "outputs": [
    {
     "name": "stdout",
     "output_type": "stream",
     "text": [
      "overall accuracy = 0.4666666666666667\n"
     ]
    }
   ],
   "source": [
    "count = 0\n",
    "for i in range(len(data[\"Attribute A\"])):\n",
    "    actual_class = data[\"Class\"][i]\n",
    "    # all other points are the training set\n",
    "    training_set = data[\"Class\"][:i] + data[\"Class\"][i + 1:]\n",
    "\n",
    "    location = (data[\"Attribute A\"][i], data[\"Attribute B\"][i])\n",
    "    points = n_closest_to(location, 3)\n",
    "    points = [p for p in points if np.linalg.norm(np.array([data[\"Attribute A\"][p], data[\"Attribute B\"][p]]) - np.array(location)) > radius]\n",
    "    \n",
    "    prediction = majority(points)\n",
    "    if prediction == actual_class:\n",
    "        count += 1\n",
    "\n",
    "accuracy = count / len(data[\"Attribute A\"])\n",
    "print(f\"overall accuracy = {accuracy}\")"
   ]
  },
  {
   "cell_type": "code",
   "execution_count": null,
   "metadata": {},
   "outputs": [],
   "source": []
  }
 ],
 "metadata": {
  "interpreter": {
   "hash": "76ca05dc3ea24b2e3b98cdb7774adfbb40773424bf5109b477fd793f623715af"
  },
  "kernelspec": {
   "display_name": "Python 3.9.9 64-bit ('env': venv)",
   "language": "python",
   "name": "python3"
  },
  "language_info": {
   "codemirror_mode": {
    "name": "ipython",
    "version": 3
   },
   "file_extension": ".py",
   "mimetype": "text/x-python",
   "name": "python",
   "nbconvert_exporter": "python",
   "pygments_lexer": "ipython3",
   "version": "3.9.13"
  },
  "orig_nbformat": 4
 },
 "nbformat": 4,
 "nbformat_minor": 2
}
